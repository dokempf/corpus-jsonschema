{
 "cells": [
  {
   "cell_type": "code",
   "execution_count": null,
   "id": "b1d68934-d788-4cd4-8e7c-5b002522e9b4",
   "metadata": {},
   "outputs": [],
   "source": [
    "import json\n",
    "import ipywidgets_jsonschema"
   ]
  },
  {
   "cell_type": "code",
   "execution_count": null,
   "id": "abafd366-e6e9-46d4-b56e-86d57b00a3b9",
   "metadata": {},
   "outputs": [],
   "source": [
    "with open(\"input.json\", \"r\") as f:\n",
    "    schema = json.load(f)"
   ]
  },
  {
   "cell_type": "code",
   "execution_count": null,
   "id": "6bfca870-4285-4eca-9f86-e5164e186c14",
   "metadata": {},
   "outputs": [],
   "source": [
    "form = ipywidgets_jsonschema.Form(schema, vertically_place_labels=True)"
   ]
  },
  {
   "cell_type": "code",
   "execution_count": null,
   "id": "af7712f0-cebc-4b7e-a0bf-8b619ac5b7f8",
   "metadata": {},
   "outputs": [],
   "source": [
    "form.show(width=\"50%\")"
   ]
  },
  {
   "cell_type": "code",
   "execution_count": null,
   "id": "f87a0985-57d5-4bce-a41a-95b91046d287",
   "metadata": {},
   "outputs": [],
   "source": [
    "form.data"
   ]
  }
 ],
 "metadata": {
  "kernelspec": {
   "display_name": "Python 3",
   "language": "python",
   "name": "python3"
  },
  "language_info": {
   "codemirror_mode": {
    "name": "ipython",
    "version": 3
   },
   "file_extension": ".py",
   "mimetype": "text/x-python",
   "name": "python",
   "nbconvert_exporter": "python",
   "pygments_lexer": "ipython3",
   "version": "3.9.10"
  }
 },
 "nbformat": 4,
 "nbformat_minor": 5
}
